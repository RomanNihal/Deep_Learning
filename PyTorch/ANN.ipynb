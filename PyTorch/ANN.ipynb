{
  "nbformat": 4,
  "nbformat_minor": 0,
  "metadata": {
    "colab": {
      "provenance": []
    },
    "kernelspec": {
      "name": "python3",
      "display_name": "Python 3"
    },
    "language_info": {
      "name": "python"
    }
  },
  "cells": [
    {
      "cell_type": "code",
      "source": [
        "import pandas as pd\n",
        "from sklearn.model_selection import train_test_split\n",
        "import torch\n",
        "from torch.utils.data import Dataset, DataLoader\n",
        "import torch.nn as nn\n",
        "import torch.optim as optim"
      ],
      "metadata": {
        "id": "Xo2ZcUGYgDZp"
      },
      "execution_count": 20,
      "outputs": []
    },
    {
      "cell_type": "code",
      "source": [
        "torch.manual_seed(42)"
      ],
      "metadata": {
        "colab": {
          "base_uri": "https://localhost:8080/"
        },
        "id": "xpvvz5qQgI60",
        "outputId": "680e6885-1c76-4af8-fee1-c7c3b6aafe8d"
      },
      "execution_count": 21,
      "outputs": [
        {
          "output_type": "execute_result",
          "data": {
            "text/plain": [
              "<torch._C.Generator at 0x7a72fbfed3f0>"
            ]
          },
          "metadata": {},
          "execution_count": 21
        }
      ]
    },
    {
      "cell_type": "code",
      "source": [
        "df = pd.read_csv('/content/fmnist_small.csv')\n",
        "df.head()"
      ],
      "metadata": {
        "colab": {
          "base_uri": "https://localhost:8080/",
          "height": 235
        },
        "id": "Bpi9fO_zgOsm",
        "outputId": "dd970bb9-61d1-4501-a46a-9580f9a6a8dc"
      },
      "execution_count": 22,
      "outputs": [
        {
          "output_type": "execute_result",
          "data": {
            "text/plain": [
              "   label  pixel1  pixel2  pixel3  pixel4  pixel5  pixel6  pixel7  pixel8  \\\n",
              "0      9       0       0       0       0       0       0       0       0   \n",
              "1      7       0       0       0       0       0       0       0       0   \n",
              "2      0       0       0       0       0       0       1       0       0   \n",
              "3      8       0       0       0       0       0       0       0       0   \n",
              "4      8       0       0       0       0       0       0       0       0   \n",
              "\n",
              "   pixel9  ...  pixel775  pixel776  pixel777  pixel778  pixel779  pixel780  \\\n",
              "0       0  ...         0         7         0        50       205       196   \n",
              "1       0  ...         0         0         0         0         0         0   \n",
              "2       0  ...       142       142       142        21         0         3   \n",
              "3       0  ...         0         0         0         0         0         0   \n",
              "4       0  ...       213       203       174       151       188        10   \n",
              "\n",
              "   pixel781  pixel782  pixel783  pixel784  \n",
              "0       213       165         0         0  \n",
              "1         0         0         0         0  \n",
              "2         0         0         0         0  \n",
              "3         0         0         0         0  \n",
              "4         0         0         0         0  \n",
              "\n",
              "[5 rows x 785 columns]"
            ],
            "text/html": [
              "\n",
              "  <div id=\"df-4d5379ea-1a30-40d7-b63d-22bf10dacb70\" class=\"colab-df-container\">\n",
              "    <div>\n",
              "<style scoped>\n",
              "    .dataframe tbody tr th:only-of-type {\n",
              "        vertical-align: middle;\n",
              "    }\n",
              "\n",
              "    .dataframe tbody tr th {\n",
              "        vertical-align: top;\n",
              "    }\n",
              "\n",
              "    .dataframe thead th {\n",
              "        text-align: right;\n",
              "    }\n",
              "</style>\n",
              "<table border=\"1\" class=\"dataframe\">\n",
              "  <thead>\n",
              "    <tr style=\"text-align: right;\">\n",
              "      <th></th>\n",
              "      <th>label</th>\n",
              "      <th>pixel1</th>\n",
              "      <th>pixel2</th>\n",
              "      <th>pixel3</th>\n",
              "      <th>pixel4</th>\n",
              "      <th>pixel5</th>\n",
              "      <th>pixel6</th>\n",
              "      <th>pixel7</th>\n",
              "      <th>pixel8</th>\n",
              "      <th>pixel9</th>\n",
              "      <th>...</th>\n",
              "      <th>pixel775</th>\n",
              "      <th>pixel776</th>\n",
              "      <th>pixel777</th>\n",
              "      <th>pixel778</th>\n",
              "      <th>pixel779</th>\n",
              "      <th>pixel780</th>\n",
              "      <th>pixel781</th>\n",
              "      <th>pixel782</th>\n",
              "      <th>pixel783</th>\n",
              "      <th>pixel784</th>\n",
              "    </tr>\n",
              "  </thead>\n",
              "  <tbody>\n",
              "    <tr>\n",
              "      <th>0</th>\n",
              "      <td>9</td>\n",
              "      <td>0</td>\n",
              "      <td>0</td>\n",
              "      <td>0</td>\n",
              "      <td>0</td>\n",
              "      <td>0</td>\n",
              "      <td>0</td>\n",
              "      <td>0</td>\n",
              "      <td>0</td>\n",
              "      <td>0</td>\n",
              "      <td>...</td>\n",
              "      <td>0</td>\n",
              "      <td>7</td>\n",
              "      <td>0</td>\n",
              "      <td>50</td>\n",
              "      <td>205</td>\n",
              "      <td>196</td>\n",
              "      <td>213</td>\n",
              "      <td>165</td>\n",
              "      <td>0</td>\n",
              "      <td>0</td>\n",
              "    </tr>\n",
              "    <tr>\n",
              "      <th>1</th>\n",
              "      <td>7</td>\n",
              "      <td>0</td>\n",
              "      <td>0</td>\n",
              "      <td>0</td>\n",
              "      <td>0</td>\n",
              "      <td>0</td>\n",
              "      <td>0</td>\n",
              "      <td>0</td>\n",
              "      <td>0</td>\n",
              "      <td>0</td>\n",
              "      <td>...</td>\n",
              "      <td>0</td>\n",
              "      <td>0</td>\n",
              "      <td>0</td>\n",
              "      <td>0</td>\n",
              "      <td>0</td>\n",
              "      <td>0</td>\n",
              "      <td>0</td>\n",
              "      <td>0</td>\n",
              "      <td>0</td>\n",
              "      <td>0</td>\n",
              "    </tr>\n",
              "    <tr>\n",
              "      <th>2</th>\n",
              "      <td>0</td>\n",
              "      <td>0</td>\n",
              "      <td>0</td>\n",
              "      <td>0</td>\n",
              "      <td>0</td>\n",
              "      <td>0</td>\n",
              "      <td>1</td>\n",
              "      <td>0</td>\n",
              "      <td>0</td>\n",
              "      <td>0</td>\n",
              "      <td>...</td>\n",
              "      <td>142</td>\n",
              "      <td>142</td>\n",
              "      <td>142</td>\n",
              "      <td>21</td>\n",
              "      <td>0</td>\n",
              "      <td>3</td>\n",
              "      <td>0</td>\n",
              "      <td>0</td>\n",
              "      <td>0</td>\n",
              "      <td>0</td>\n",
              "    </tr>\n",
              "    <tr>\n",
              "      <th>3</th>\n",
              "      <td>8</td>\n",
              "      <td>0</td>\n",
              "      <td>0</td>\n",
              "      <td>0</td>\n",
              "      <td>0</td>\n",
              "      <td>0</td>\n",
              "      <td>0</td>\n",
              "      <td>0</td>\n",
              "      <td>0</td>\n",
              "      <td>0</td>\n",
              "      <td>...</td>\n",
              "      <td>0</td>\n",
              "      <td>0</td>\n",
              "      <td>0</td>\n",
              "      <td>0</td>\n",
              "      <td>0</td>\n",
              "      <td>0</td>\n",
              "      <td>0</td>\n",
              "      <td>0</td>\n",
              "      <td>0</td>\n",
              "      <td>0</td>\n",
              "    </tr>\n",
              "    <tr>\n",
              "      <th>4</th>\n",
              "      <td>8</td>\n",
              "      <td>0</td>\n",
              "      <td>0</td>\n",
              "      <td>0</td>\n",
              "      <td>0</td>\n",
              "      <td>0</td>\n",
              "      <td>0</td>\n",
              "      <td>0</td>\n",
              "      <td>0</td>\n",
              "      <td>0</td>\n",
              "      <td>...</td>\n",
              "      <td>213</td>\n",
              "      <td>203</td>\n",
              "      <td>174</td>\n",
              "      <td>151</td>\n",
              "      <td>188</td>\n",
              "      <td>10</td>\n",
              "      <td>0</td>\n",
              "      <td>0</td>\n",
              "      <td>0</td>\n",
              "      <td>0</td>\n",
              "    </tr>\n",
              "  </tbody>\n",
              "</table>\n",
              "<p>5 rows × 785 columns</p>\n",
              "</div>\n",
              "    <div class=\"colab-df-buttons\">\n",
              "\n",
              "  <div class=\"colab-df-container\">\n",
              "    <button class=\"colab-df-convert\" onclick=\"convertToInteractive('df-4d5379ea-1a30-40d7-b63d-22bf10dacb70')\"\n",
              "            title=\"Convert this dataframe to an interactive table.\"\n",
              "            style=\"display:none;\">\n",
              "\n",
              "  <svg xmlns=\"http://www.w3.org/2000/svg\" height=\"24px\" viewBox=\"0 -960 960 960\">\n",
              "    <path d=\"M120-120v-720h720v720H120Zm60-500h600v-160H180v160Zm220 220h160v-160H400v160Zm0 220h160v-160H400v160ZM180-400h160v-160H180v160Zm440 0h160v-160H620v160ZM180-180h160v-160H180v160Zm440 0h160v-160H620v160Z\"/>\n",
              "  </svg>\n",
              "    </button>\n",
              "\n",
              "  <style>\n",
              "    .colab-df-container {\n",
              "      display:flex;\n",
              "      gap: 12px;\n",
              "    }\n",
              "\n",
              "    .colab-df-convert {\n",
              "      background-color: #E8F0FE;\n",
              "      border: none;\n",
              "      border-radius: 50%;\n",
              "      cursor: pointer;\n",
              "      display: none;\n",
              "      fill: #1967D2;\n",
              "      height: 32px;\n",
              "      padding: 0 0 0 0;\n",
              "      width: 32px;\n",
              "    }\n",
              "\n",
              "    .colab-df-convert:hover {\n",
              "      background-color: #E2EBFA;\n",
              "      box-shadow: 0px 1px 2px rgba(60, 64, 67, 0.3), 0px 1px 3px 1px rgba(60, 64, 67, 0.15);\n",
              "      fill: #174EA6;\n",
              "    }\n",
              "\n",
              "    .colab-df-buttons div {\n",
              "      margin-bottom: 4px;\n",
              "    }\n",
              "\n",
              "    [theme=dark] .colab-df-convert {\n",
              "      background-color: #3B4455;\n",
              "      fill: #D2E3FC;\n",
              "    }\n",
              "\n",
              "    [theme=dark] .colab-df-convert:hover {\n",
              "      background-color: #434B5C;\n",
              "      box-shadow: 0px 1px 3px 1px rgba(0, 0, 0, 0.15);\n",
              "      filter: drop-shadow(0px 1px 2px rgba(0, 0, 0, 0.3));\n",
              "      fill: #FFFFFF;\n",
              "    }\n",
              "  </style>\n",
              "\n",
              "    <script>\n",
              "      const buttonEl =\n",
              "        document.querySelector('#df-4d5379ea-1a30-40d7-b63d-22bf10dacb70 button.colab-df-convert');\n",
              "      buttonEl.style.display =\n",
              "        google.colab.kernel.accessAllowed ? 'block' : 'none';\n",
              "\n",
              "      async function convertToInteractive(key) {\n",
              "        const element = document.querySelector('#df-4d5379ea-1a30-40d7-b63d-22bf10dacb70');\n",
              "        const dataTable =\n",
              "          await google.colab.kernel.invokeFunction('convertToInteractive',\n",
              "                                                    [key], {});\n",
              "        if (!dataTable) return;\n",
              "\n",
              "        const docLinkHtml = 'Like what you see? Visit the ' +\n",
              "          '<a target=\"_blank\" href=https://colab.research.google.com/notebooks/data_table.ipynb>data table notebook</a>'\n",
              "          + ' to learn more about interactive tables.';\n",
              "        element.innerHTML = '';\n",
              "        dataTable['output_type'] = 'display_data';\n",
              "        await google.colab.output.renderOutput(dataTable, element);\n",
              "        const docLink = document.createElement('div');\n",
              "        docLink.innerHTML = docLinkHtml;\n",
              "        element.appendChild(docLink);\n",
              "      }\n",
              "    </script>\n",
              "  </div>\n",
              "\n",
              "\n",
              "<div id=\"df-aca3522a-e86c-41de-8be2-a720513d5d0b\">\n",
              "  <button class=\"colab-df-quickchart\" onclick=\"quickchart('df-aca3522a-e86c-41de-8be2-a720513d5d0b')\"\n",
              "            title=\"Suggest charts\"\n",
              "            style=\"display:none;\">\n",
              "\n",
              "<svg xmlns=\"http://www.w3.org/2000/svg\" height=\"24px\"viewBox=\"0 0 24 24\"\n",
              "     width=\"24px\">\n",
              "    <g>\n",
              "        <path d=\"M19 3H5c-1.1 0-2 .9-2 2v14c0 1.1.9 2 2 2h14c1.1 0 2-.9 2-2V5c0-1.1-.9-2-2-2zM9 17H7v-7h2v7zm4 0h-2V7h2v10zm4 0h-2v-4h2v4z\"/>\n",
              "    </g>\n",
              "</svg>\n",
              "  </button>\n",
              "\n",
              "<style>\n",
              "  .colab-df-quickchart {\n",
              "      --bg-color: #E8F0FE;\n",
              "      --fill-color: #1967D2;\n",
              "      --hover-bg-color: #E2EBFA;\n",
              "      --hover-fill-color: #174EA6;\n",
              "      --disabled-fill-color: #AAA;\n",
              "      --disabled-bg-color: #DDD;\n",
              "  }\n",
              "\n",
              "  [theme=dark] .colab-df-quickchart {\n",
              "      --bg-color: #3B4455;\n",
              "      --fill-color: #D2E3FC;\n",
              "      --hover-bg-color: #434B5C;\n",
              "      --hover-fill-color: #FFFFFF;\n",
              "      --disabled-bg-color: #3B4455;\n",
              "      --disabled-fill-color: #666;\n",
              "  }\n",
              "\n",
              "  .colab-df-quickchart {\n",
              "    background-color: var(--bg-color);\n",
              "    border: none;\n",
              "    border-radius: 50%;\n",
              "    cursor: pointer;\n",
              "    display: none;\n",
              "    fill: var(--fill-color);\n",
              "    height: 32px;\n",
              "    padding: 0;\n",
              "    width: 32px;\n",
              "  }\n",
              "\n",
              "  .colab-df-quickchart:hover {\n",
              "    background-color: var(--hover-bg-color);\n",
              "    box-shadow: 0 1px 2px rgba(60, 64, 67, 0.3), 0 1px 3px 1px rgba(60, 64, 67, 0.15);\n",
              "    fill: var(--button-hover-fill-color);\n",
              "  }\n",
              "\n",
              "  .colab-df-quickchart-complete:disabled,\n",
              "  .colab-df-quickchart-complete:disabled:hover {\n",
              "    background-color: var(--disabled-bg-color);\n",
              "    fill: var(--disabled-fill-color);\n",
              "    box-shadow: none;\n",
              "  }\n",
              "\n",
              "  .colab-df-spinner {\n",
              "    border: 2px solid var(--fill-color);\n",
              "    border-color: transparent;\n",
              "    border-bottom-color: var(--fill-color);\n",
              "    animation:\n",
              "      spin 1s steps(1) infinite;\n",
              "  }\n",
              "\n",
              "  @keyframes spin {\n",
              "    0% {\n",
              "      border-color: transparent;\n",
              "      border-bottom-color: var(--fill-color);\n",
              "      border-left-color: var(--fill-color);\n",
              "    }\n",
              "    20% {\n",
              "      border-color: transparent;\n",
              "      border-left-color: var(--fill-color);\n",
              "      border-top-color: var(--fill-color);\n",
              "    }\n",
              "    30% {\n",
              "      border-color: transparent;\n",
              "      border-left-color: var(--fill-color);\n",
              "      border-top-color: var(--fill-color);\n",
              "      border-right-color: var(--fill-color);\n",
              "    }\n",
              "    40% {\n",
              "      border-color: transparent;\n",
              "      border-right-color: var(--fill-color);\n",
              "      border-top-color: var(--fill-color);\n",
              "    }\n",
              "    60% {\n",
              "      border-color: transparent;\n",
              "      border-right-color: var(--fill-color);\n",
              "    }\n",
              "    80% {\n",
              "      border-color: transparent;\n",
              "      border-right-color: var(--fill-color);\n",
              "      border-bottom-color: var(--fill-color);\n",
              "    }\n",
              "    90% {\n",
              "      border-color: transparent;\n",
              "      border-bottom-color: var(--fill-color);\n",
              "    }\n",
              "  }\n",
              "</style>\n",
              "\n",
              "  <script>\n",
              "    async function quickchart(key) {\n",
              "      const quickchartButtonEl =\n",
              "        document.querySelector('#' + key + ' button');\n",
              "      quickchartButtonEl.disabled = true;  // To prevent multiple clicks.\n",
              "      quickchartButtonEl.classList.add('colab-df-spinner');\n",
              "      try {\n",
              "        const charts = await google.colab.kernel.invokeFunction(\n",
              "            'suggestCharts', [key], {});\n",
              "      } catch (error) {\n",
              "        console.error('Error during call to suggestCharts:', error);\n",
              "      }\n",
              "      quickchartButtonEl.classList.remove('colab-df-spinner');\n",
              "      quickchartButtonEl.classList.add('colab-df-quickchart-complete');\n",
              "    }\n",
              "    (() => {\n",
              "      let quickchartButtonEl =\n",
              "        document.querySelector('#df-aca3522a-e86c-41de-8be2-a720513d5d0b button');\n",
              "      quickchartButtonEl.style.display =\n",
              "        google.colab.kernel.accessAllowed ? 'block' : 'none';\n",
              "    })();\n",
              "  </script>\n",
              "</div>\n",
              "\n",
              "    </div>\n",
              "  </div>\n"
            ],
            "application/vnd.google.colaboratory.intrinsic+json": {
              "type": "dataframe",
              "variable_name": "df"
            }
          },
          "metadata": {},
          "execution_count": 22
        }
      ]
    },
    {
      "cell_type": "code",
      "source": [
        "X = df.iloc[:, 1:].values\n",
        "y = df.iloc[:, 0].values"
      ],
      "metadata": {
        "id": "rrTwJKVkgkLb"
      },
      "execution_count": 23,
      "outputs": []
    },
    {
      "cell_type": "code",
      "source": [
        "X_train, X_test, y_train, y_test = train_test_split(X, y, test_size=0.2, random_state=42)"
      ],
      "metadata": {
        "id": "HcsYsA9vhYgW"
      },
      "execution_count": 24,
      "outputs": []
    },
    {
      "cell_type": "code",
      "source": [
        "# Scaling\n",
        "X_train = X_train/255.0\n",
        "y_test = y_test/255.0"
      ],
      "metadata": {
        "id": "EtR3SyM-hbxi"
      },
      "execution_count": 25,
      "outputs": []
    },
    {
      "cell_type": "markdown",
      "source": [
        "### Why PyTorch Prefers Specific Data Types\n",
        "\n",
        "PyTorch uses specific data types for features and labels during model training for efficiency and compatibility. Here's a breakdown:\n",
        "\n",
        "**Features as Floats (`torch.float32`)**\n",
        "\n",
        "* **Precision in Calculations:** Deep learning models rely on floating-point arithmetic for accurate computations. Using `torch.float32` provides the necessary precision to capture complex patterns within the data.\n",
        "* **Gradient-Based Optimization:** Training deep learning models involves calculating gradients (derivatives). These gradients are naturally represented as floating-point numbers, making features as floats crucial for optimization algorithms like stochastic gradient descent.\n",
        "* **GPU Acceleration:** Modern GPUs are optimized for processing floating-point operations. Storing features as floats allows PyTorch to leverage GPU acceleration effectively, leading to significantly faster model training.\n",
        "\n",
        "**Labels as Long Integers (`torch.long`)**\n",
        "\n",
        "* **Classification Tasks:** Labels in classification problems often represent distinct categories (e.g., 0 for \"cat,\" 1 for \"dog\"). Long integers (`torch.long`) are well-suited for storing such categorical data efficiently.\n",
        "* **Loss Functions:** Loss functions used in classification (e.g., cross-entropy loss) typically expect integer labels for comparing predicted probabilities against the actual target categories. Using `torch.long` ensures compatibility with these loss functions.\n",
        "* **Indexing and Memory:** Representing labels as long integers is memory-efficient and allows for efficient indexing when accessing specific data points within the dataset.\n",
        "\n",
        "**In Summary:**\n",
        "\n",
        "* **Features:** Stored as floats (`torch.float32`) for precise calculations, gradient-based optimization, and GPU acceleration.\n",
        "* **Labels:** Stored as long integers (`torch.long`) for efficient handling of discrete categories, compatibility with loss functions, and memory efficiency.\n",
        "\n",
        "By adhering to these data type conventions, you ensure your data is processed correctly within the PyTorch framework, leading to more effective and efficient model training."
      ],
      "metadata": {
        "id": "1i6A3vXjjD-h"
      }
    },
    {
      "cell_type": "code",
      "source": [
        "class FashionD(Dataset):\n",
        "    def __init__(self, features, labels):\n",
        "        self.features = torch.tensor(features, dtype=torch.float32)\n",
        "        self.labels = torch.tensor(labels, dtype=torch.long)\n",
        "\n",
        "    def __len__(self):\n",
        "        return len(self.features)\n",
        "\n",
        "    def __getitem__(self, idx):\n",
        "        features = self.features[idx]\n",
        "        label = self.labels[idx]\n",
        "        return features, label"
      ],
      "metadata": {
        "id": "bqzclmZth6WF"
      },
      "execution_count": 26,
      "outputs": []
    },
    {
      "cell_type": "code",
      "source": [
        "# Create train_dataset object\n",
        "train_dataset = FashionD(X_train, y_train)"
      ],
      "metadata": {
        "id": "gyNO_RPGjO4u"
      },
      "execution_count": 27,
      "outputs": []
    },
    {
      "cell_type": "code",
      "source": [
        "len(train_dataset)"
      ],
      "metadata": {
        "colab": {
          "base_uri": "https://localhost:8080/"
        },
        "id": "eDn1LkiHjeG-",
        "outputId": "735d678e-5296-4b00-9b12-78f4c317f301"
      },
      "execution_count": 28,
      "outputs": [
        {
          "output_type": "execute_result",
          "data": {
            "text/plain": [
              "4800"
            ]
          },
          "metadata": {},
          "execution_count": 28
        }
      ]
    },
    {
      "cell_type": "code",
      "source": [
        "# Create test_dataset object\n",
        "test_dataset = FashionD(X_test, y_test)"
      ],
      "metadata": {
        "id": "lQJYaUJXjXOk"
      },
      "execution_count": 29,
      "outputs": []
    },
    {
      "cell_type": "code",
      "source": [
        "len(test_dataset)"
      ],
      "metadata": {
        "colab": {
          "base_uri": "https://localhost:8080/"
        },
        "id": "GNhpLb90jpfc",
        "outputId": "ff73d15f-a23f-4548-a109-370d17eb298e"
      },
      "execution_count": 30,
      "outputs": [
        {
          "output_type": "execute_result",
          "data": {
            "text/plain": [
              "1200"
            ]
          },
          "metadata": {},
          "execution_count": 30
        }
      ]
    },
    {
      "cell_type": "markdown",
      "source": [
        "## Shuffling in Data Loaders\n",
        "\n",
        "* **`shuffle=True` (for `train_loader`):** When set to `True` for the training data loader, the data samples within the training dataset are shuffled randomly before each epoch. This prevents the model from memorizing the order of the data and helps it generalize better to unseen data.\n",
        "\n",
        "* **`shuffle=False` (for `test_loader`):** It is crucial to keep the test data in a consistent order, so `shuffle` is set to `False` for the test data loader. This allows for accurate tracking of the model's progress and ensures that the evaluation is performed on the same set of samples each time.\n",
        "\n",
        "### Why Shuffle?\n",
        "\n",
        "Shuffling the training data helps to:\n",
        "\n",
        "* Prevent the model from learning patterns specific to the order of the data, leading to better generalization.\n",
        "* Improve the stability and convergence of the training process.\n",
        "* Reduce the impact of biases that may be present in the data due to the order in which it was collected or stored.\n",
        "\n",
        "### Why Not Shuffle Test Data?\n",
        "\n",
        "The test data is used to evaluate the performance of the model on unseen data. Therefore, it is essential to keep the test data in a consistent order to ensure that the evaluation results are comparable across different runs. Shuffling the test data would introduce randomness and make it difficult to track the model's progress accurately."
      ],
      "metadata": {
        "id": "UtsA6eSFkG6G"
      }
    },
    {
      "cell_type": "code",
      "source": [
        "# Create train and test loader\n",
        "train_loader = DataLoader(train_dataset, batch_size=32, shuffle=True)\n",
        "test_loader = DataLoader(test_dataset, batch_size=32, shuffle=False)"
      ],
      "metadata": {
        "id": "3cwq3D81jzoV"
      },
      "execution_count": 31,
      "outputs": []
    },
    {
      "cell_type": "markdown",
      "source": [
        "# why nn.Sequential\n",
        "\n",
        "1. Simplified Model Definition:\n",
        "\n",
        "nn.Sequential makes defining a sequence of layers more concise and readable. Layers are listed in the order they should be applied, improving the clarity of the model's structure.\n",
        "\n",
        "self.fc1 = nn.Sequential(\n",
        "   nn.Linear(num_features, 128),\n",
        "   nn.ReLU(),\n",
        "   nn.Linear(128, 64),\n",
        "   nn.ReLU(),\n",
        "   nn.Linear(64, 10)\n",
        ")\n",
        "\n",
        "2. Organized Forward Pass:\n",
        "\n",
        "During the forward pass, input data automatically flows through each layer within nn.Sequential in the defined order. This eliminates the need for separate forward pass code for each layer, leading to better code organization and fewer errors.\n",
        "\n",
        "def forward(self, x):\n",
        "   return self.fc1(x)\n",
        "\n",
        "3. Modular Design: ... (and so on)\n",
        "\n",
        "**Therefore, to have it as pure text, you would need to remove the code block fencing and any Markdown-specific formatting.**\n",
        "\n",
        "I apologize for the initial misunderstanding. I hope this clarifies things!\n"
      ],
      "metadata": {
        "id": "chX5jMWimJuG"
      }
    },
    {
      "cell_type": "code",
      "source": [
        "class FashionClassifier(nn.Module):\n",
        "    def __init__(self, num_features):\n",
        "        super(FashionClassifier, self).__init__()\n",
        "\n",
        "        self.fc1 = nn.Sequential(\n",
        "            nn.Linear(num_features, 128),\n",
        "            nn.ReLU(),\n",
        "            nn.Linear(128, 64),\n",
        "            nn.ReLU(),\n",
        "            nn.Linear(64, 10)\n",
        "        )\n",
        "\n",
        "    def forward(self, x):\n",
        "        return self.fc1(x)"
      ],
      "metadata": {
        "id": "HoEghxVikZi2"
      },
      "execution_count": 32,
      "outputs": []
    },
    {
      "cell_type": "code",
      "source": [
        "epochs = 100\n",
        "learning_rate = 0.1"
      ],
      "metadata": {
        "id": "5zyyVqd8mj0F"
      },
      "execution_count": 33,
      "outputs": []
    },
    {
      "cell_type": "code",
      "source": [
        "model = FashionClassifier(X_train.shape[1])\n",
        "\n",
        "loss_function = nn.CrossEntropyLoss()\n",
        "\n",
        "optimizer = optim.SGD(model.parameters(), lr=learning_rate)"
      ],
      "metadata": {
        "id": "Q7HeH1FNmnpR"
      },
      "execution_count": 39,
      "outputs": []
    },
    {
      "cell_type": "code",
      "source": [
        "len(train_loader) # number of batches"
      ],
      "metadata": {
        "colab": {
          "base_uri": "https://localhost:8080/"
        },
        "id": "Ib2kPTiDoQMk",
        "outputId": "f60c76d7-cd0e-402c-b527-de8e807e2984"
      },
      "execution_count": 35,
      "outputs": [
        {
          "output_type": "execute_result",
          "data": {
            "text/plain": [
              "150"
            ]
          },
          "metadata": {},
          "execution_count": 35
        }
      ]
    },
    {
      "cell_type": "code",
      "source": [
        "for epoch in range(epochs):\n",
        "  total_loss = 0\n",
        "\n",
        "  for batch_features, batch_labels in train_loader:\n",
        "    outputs = model(batch_features)\n",
        "\n",
        "    loss = loss_function(outputs, batch_labels)\n",
        "\n",
        "    optimizer.zero_grad()\n",
        "    loss.backward()\n",
        "\n",
        "    optimizer.step()\n",
        "\n",
        "    total_loss += loss.item()\n",
        "\n",
        "  print(f\"Epoch {epoch+1}/{epoch}, Loss: {total_loss/len(train_loader)}\")"
      ],
      "metadata": {
        "colab": {
          "base_uri": "https://localhost:8080/"
        },
        "id": "pfbcPCUKmuE2",
        "outputId": "3ccc046e-16bb-4c91-80ce-f88611ede662"
      },
      "execution_count": 40,
      "outputs": [
        {
          "output_type": "stream",
          "name": "stdout",
          "text": [
            "Epoch 1/0, Loss: 1.3706780107816061\n",
            "Epoch 2/1, Loss: 0.814962179462115\n",
            "Epoch 3/2, Loss: 0.6875333511829376\n",
            "Epoch 4/3, Loss: 0.6041322767734527\n",
            "Epoch 5/4, Loss: 0.5527137624224027\n",
            "Epoch 6/5, Loss: 0.5165035071969032\n",
            "Epoch 7/6, Loss: 0.47892788489659627\n",
            "Epoch 8/7, Loss: 0.45615307370821634\n",
            "Epoch 9/8, Loss: 0.42594304800033567\n",
            "Epoch 10/9, Loss: 0.4140771572291851\n",
            "Epoch 11/10, Loss: 0.40038476963837943\n",
            "Epoch 12/11, Loss: 0.37696492080887156\n",
            "Epoch 13/12, Loss: 0.36135029544432956\n",
            "Epoch 14/13, Loss: 0.3501733988026778\n",
            "Epoch 15/14, Loss: 0.3195268313586712\n",
            "Epoch 16/15, Loss: 0.3267906175057093\n",
            "Epoch 17/16, Loss: 0.30053788791100183\n",
            "Epoch 18/17, Loss: 0.29019319981336594\n",
            "Epoch 19/18, Loss: 0.28491120698551337\n",
            "Epoch 20/19, Loss: 0.26746990407506627\n",
            "Epoch 21/20, Loss: 0.25396797065933546\n",
            "Epoch 22/21, Loss: 0.2509445640941461\n",
            "Epoch 23/22, Loss: 0.24148049689829348\n",
            "Epoch 24/23, Loss: 0.23145229910810788\n",
            "Epoch 25/24, Loss: 0.2295145431905985\n",
            "Epoch 26/25, Loss: 0.20969781262179216\n",
            "Epoch 27/26, Loss: 0.20821323677897452\n",
            "Epoch 28/27, Loss: 0.20928013275067012\n",
            "Epoch 29/28, Loss: 0.19329445128639539\n",
            "Epoch 30/29, Loss: 0.19927621441582838\n",
            "Epoch 31/30, Loss: 0.2016104470938444\n",
            "Epoch 32/31, Loss: 0.19859668458501498\n",
            "Epoch 33/32, Loss: 0.18767015238602955\n",
            "Epoch 34/33, Loss: 0.1665905375406146\n",
            "Epoch 35/34, Loss: 0.17631100309391817\n",
            "Epoch 36/35, Loss: 0.1536444801464677\n",
            "Epoch 37/36, Loss: 0.14603884868323802\n",
            "Epoch 38/37, Loss: 0.15970547078798214\n",
            "Epoch 39/38, Loss: 0.15598518915474416\n",
            "Epoch 40/39, Loss: 0.14278201576322316\n",
            "Epoch 41/40, Loss: 0.12538832837094863\n",
            "Epoch 42/41, Loss: 0.15495040969923138\n",
            "Epoch 43/42, Loss: 0.13124143524716297\n",
            "Epoch 44/43, Loss: 0.13407077610492707\n",
            "Epoch 45/44, Loss: 0.13215987755606573\n",
            "Epoch 46/45, Loss: 0.1223430829308927\n",
            "Epoch 47/46, Loss: 0.105878552403301\n",
            "Epoch 48/47, Loss: 0.10173965446650982\n",
            "Epoch 49/48, Loss: 0.10772465610255798\n",
            "Epoch 50/49, Loss: 0.09394590627402068\n",
            "Epoch 51/50, Loss: 0.12248836310735593\n",
            "Epoch 52/51, Loss: 0.1015476701532801\n",
            "Epoch 53/52, Loss: 0.08620805932829777\n",
            "Epoch 54/53, Loss: 0.09263064853536586\n",
            "Epoch 55/54, Loss: 0.08267747248212497\n",
            "Epoch 56/55, Loss: 0.09688935276741782\n",
            "Epoch 57/56, Loss: 0.0721017044937859\n",
            "Epoch 58/57, Loss: 0.0937171406019479\n",
            "Epoch 59/58, Loss: 0.0809432094047467\n",
            "Epoch 60/59, Loss: 0.06949773296092947\n",
            "Epoch 61/60, Loss: 0.07604311979065338\n",
            "Epoch 62/61, Loss: 0.08240267272495354\n",
            "Epoch 63/62, Loss: 0.05632649094176789\n",
            "Epoch 64/63, Loss: 0.07210386114272599\n",
            "Epoch 65/64, Loss: 0.06168038225422303\n",
            "Epoch 66/65, Loss: 0.08373378889557595\n",
            "Epoch 67/66, Loss: 0.07614578278114398\n",
            "Epoch 68/67, Loss: 0.09087593759875745\n",
            "Epoch 69/68, Loss: 0.06192694384759913\n",
            "Epoch 70/69, Loss: 0.059639027699207266\n",
            "Epoch 71/70, Loss: 0.0454027981000642\n",
            "Epoch 72/71, Loss: 0.06417832828126847\n",
            "Epoch 73/72, Loss: 0.058477027465899785\n",
            "Epoch 74/73, Loss: 0.03477761193954696\n",
            "Epoch 75/74, Loss: 0.06552749372863521\n",
            "Epoch 76/75, Loss: 0.040877713564162456\n",
            "Epoch 77/76, Loss: 0.029839131990447642\n",
            "Epoch 78/77, Loss: 0.03530737481817293\n",
            "Epoch 79/78, Loss: 0.03759075539962699\n",
            "Epoch 80/79, Loss: 0.23594489464303478\n",
            "Epoch 81/80, Loss: 0.10140758516577383\n",
            "Epoch 82/81, Loss: 0.04816264069018265\n",
            "Epoch 83/82, Loss: 0.03794595261298431\n",
            "Epoch 84/83, Loss: 0.03486375574643413\n",
            "Epoch 85/84, Loss: 0.05705578535911627\n",
            "Epoch 86/85, Loss: 0.06680257733600835\n",
            "Epoch 87/86, Loss: 0.029319239823768536\n",
            "Epoch 88/87, Loss: 0.035659076905964565\n",
            "Epoch 89/88, Loss: 0.033112668599933386\n",
            "Epoch 90/89, Loss: 0.07192158575402573\n",
            "Epoch 91/90, Loss: 0.05839580264485752\n",
            "Epoch 92/91, Loss: 0.025218475764850156\n",
            "Epoch 93/92, Loss: 0.022213093576719984\n",
            "Epoch 94/93, Loss: 0.028770706951230143\n",
            "Epoch 95/94, Loss: 0.014189910049705455\n",
            "Epoch 96/95, Loss: 0.0405132256471552\n",
            "Epoch 97/96, Loss: 0.02412279013893567\n",
            "Epoch 98/97, Loss: 0.038600646705987555\n",
            "Epoch 99/98, Loss: 0.01843698039961358\n",
            "Epoch 100/99, Loss: 0.00926891535675774\n"
          ]
        }
      ]
    },
    {
      "cell_type": "code",
      "source": [
        "model.eval()"
      ],
      "metadata": {
        "colab": {
          "base_uri": "https://localhost:8080/"
        },
        "id": "M3p7gmfjouYM",
        "outputId": "aec8ee0a-d546-4442-c94c-f9f36d600001"
      },
      "execution_count": 41,
      "outputs": [
        {
          "output_type": "execute_result",
          "data": {
            "text/plain": [
              "FashionClassifier(\n",
              "  (fc1): Sequential(\n",
              "    (0): Linear(in_features=784, out_features=128, bias=True)\n",
              "    (1): ReLU()\n",
              "    (2): Linear(in_features=128, out_features=64, bias=True)\n",
              "    (3): ReLU()\n",
              "    (4): Linear(in_features=64, out_features=10, bias=True)\n",
              "  )\n",
              ")"
            ]
          },
          "metadata": {},
          "execution_count": 41
        }
      ]
    },
    {
      "cell_type": "code",
      "source": [
        "# evaluation code(no library used)\n",
        "total = 0\n",
        "correct = 0\n",
        "\n",
        "with torch.no_grad():\n",
        "  for batch_features, batch_labels in test_loader:\n",
        "    outputs = model(batch_features)\n",
        "\n",
        "    _, predicted = torch.max(outputs, 1)\n",
        "\n",
        "    total += batch_labels.shape[0]\n",
        "    correct += (predicted == batch_labels).sum().item()\n",
        "\n",
        "print(f\"Accuracy: {100*correct/total: .2f}%\")"
      ],
      "metadata": {
        "colab": {
          "base_uri": "https://localhost:8080/"
        },
        "id": "I3kn1dlQpQ3U",
        "outputId": "ddb3ed7b-bfd7-48cb-88de-85f5dbff873d"
      },
      "execution_count": 42,
      "outputs": [
        {
          "output_type": "stream",
          "name": "stdout",
          "text": [
            "Accuracy:  10.58%\n"
          ]
        }
      ]
    }
  ]
}